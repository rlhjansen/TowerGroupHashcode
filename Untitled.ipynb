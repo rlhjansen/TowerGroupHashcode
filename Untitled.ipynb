{
 "cells": [
  {
   "cell_type": "code",
   "execution_count": 95,
   "metadata": {},
   "outputs": [],
   "source": [
    "import classes\n"
   ]
  },
  {
   "cell_type": "code",
   "execution_count": 134,
   "metadata": {},
   "outputs": [],
   "source": [
    "import classes\n",
    "\n",
    "def create_Image(file_name):\n",
    "    \"\"\"Create list of object Image from text file\"\"\"\n",
    "    # Read file\n",
    "    f = open(file_name, \"r\")\n",
    "\n",
    "    images = []\n",
    "    counter = 0\n",
    "    # Loop over lines\n",
    "    for line in f.readlines():\n",
    "        line = line.replace(\"\\n\", \"\").split(\" \")\n",
    "        # Append Image objects to images\n",
    "        new_img =  classes.Image(counter, line[0], line[2:])\n",
    "        images.append(new_img)\n",
    "        counter += 1\n",
    "\n",
    "    return images\n",
    "\n",
    "\n",
    "def create_slides(imgs):\n",
    "    \"\"\"Create list of slides from a list of images\"\"\"\n",
    "    # Create slides\n",
    "    slides = [classes.slide() for i in range(len(imgs))]\n",
    "\n",
    "    count = 0\n",
    "    lonely = False\n",
    "    # Iterate over images to put them in the slides list\n",
    "    for i in range(len(imgs)):\n",
    "        # Insert horizontal image\n",
    "        if imgs[i].orientation == \"H\":\n",
    "            slides[count].insert(imgs[i])\n",
    "            count += 1\n",
    "        # Insert two verticals if a lonely index is present\n",
    "        elif lonely is not False:\n",
    "            slides[count].insert(imgs[lonely])\n",
    "            slides[count].insert(imgs[i])\n",
    "            count += 1\n",
    "            lonely = False\n",
    "        # Store this lonely vertical image\n",
    "        else:\n",
    "            lonely = i\n",
    "\n",
    "    # Delete empty slides\n",
    "    del slides[count:]\n",
    "\n",
    "    return slides"
   ]
  },
  {
   "cell_type": "code",
   "execution_count": 152,
   "metadata": {},
   "outputs": [],
   "source": [
    "file_name = \"data/a_example.txt\"\n",
    "# Create list of images\n",
    "imgs = create_Image(file_name)\n",
    "# Create list of slides in order of the file\n",
    "slides = create_slides(imgs)"
   ]
  },
  {
   "cell_type": "code",
   "execution_count": 153,
   "metadata": {},
   "outputs": [
    {
     "name": "stdout",
     "output_type": "stream",
     "text": [
      "3\n"
     ]
    },
    {
     "data": {
      "text/plain": [
       "'data/a_example_output.txt'"
      ]
     },
     "execution_count": 153,
     "metadata": {},
     "output_type": "execute_result"
    }
   ],
   "source": [
    "# slides = slidess\n",
    "# len(slides)\n",
    "# slides[0].images[0].id\n",
    "print(len(slides))\n",
    "file_name_output = file_name[:-4]\n",
    "file_name_output+\"_output.txt\""
   ]
  },
  {
   "cell_type": "code",
   "execution_count": 162,
   "metadata": {},
   "outputs": [],
   "source": [
    "def create_file(slides, file_name_output):\n",
    "#     file_name_output = \"yeeeey_output.txt\"\n",
    "\n",
    "    output = open(file_name_output, \"w\")\n",
    "    with open(file_name_output, \"w\") as f: \n",
    "        # Write the number of slides\n",
    "        f.write(str(len(slides))+\"\\n\")\n",
    "\n",
    "        # Write per slide the photo id\n",
    "        for slide in slides:\n",
    "            line = \"\"\n",
    "            for i in range(len(slide.images)):\n",
    "                if i > 0:\n",
    "                    line += \" \"\n",
    "                line += str(slide.images[i].id)\n",
    "            line += \"\\n\"\n",
    "            # Write line\n",
    "            f.write(line)\n",
    "        \n",
    "file_name_output = \"wooo_output.txt\"\n",
    "        \n",
    "create_file(slides, file_name_output)\n",
    "            \n",
    " \n"
   ]
  },
  {
   "cell_type": "code",
   "execution_count": null,
   "metadata": {},
   "outputs": [],
   "source": [
    "file_name_output = file_name+\"_output.txt\"\n",
    "\n",
    "def create_file(slides, file_name_output):\n",
    "    \n",
    "    with open(file_name_output, \"w\") as f: \n",
    "        # Write the number of slides\n",
    "        f.write(str(len(slides))+\"\\n\")\n",
    "\n",
    "        # Write per slide the photo id\n",
    "        for slide in slides:\n",
    "            line = \"\"\n",
    "            for i in range(len(slide.images)):\n",
    "                if i > 0:\n",
    "                    line += \" \"\n",
    "                line += str(slide.images[i].id)\n",
    "            line += \"\\n\"\n",
    "            # Write line\n",
    "            f.write(line)\n",
    "        \n",
    "        \n",
    "            \n",
    "create_file(slides, file_name_output)"
   ]
  },
  {
   "cell_type": "code",
   "execution_count": null,
   "metadata": {},
   "outputs": [],
   "source": [
    "f = open(file)\n",
    "for line in f.readlines():\n",
    "    c.update(read_tags(line))\n",
    "return c"
   ]
  }
 ],
 "metadata": {
  "kernelspec": {
   "display_name": "Python 3",
   "language": "python",
   "name": "python3"
  },
  "language_info": {
   "codemirror_mode": {
    "name": "ipython",
    "version": 3
   },
   "file_extension": ".py",
   "mimetype": "text/x-python",
   "name": "python",
   "nbconvert_exporter": "python",
   "pygments_lexer": "ipython3",
   "version": "3.6.5"
  }
 },
 "nbformat": 4,
 "nbformat_minor": 2
}
