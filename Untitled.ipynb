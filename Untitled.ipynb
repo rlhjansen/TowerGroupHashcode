{
 "cells": [
  {
   "cell_type": "code",
   "execution_count": 95,
   "metadata": {},
   "outputs": [],
   "source": [
    "import classes\n"
   ]
  },
  {
   "cell_type": "code",
   "execution_count": 96,
   "metadata": {},
   "outputs": [],
   "source": [
    "import classes\n",
    "\n",
    "def create_Image(file_name):\n",
    "    \"\"\"Create list of object Image from text file\"\"\"\n",
    "    # Read file\n",
    "    f = open(file_name, \"r\")\n",
    "\n",
    "    images = []\n",
    "    counter = 0\n",
    "    # Loop over lines\n",
    "    for line in f.readlines():\n",
    "        line = line.replace(\"\\n\", \"\").split(\" \")\n",
    "        # Append Image objects to images\n",
    "        new_img =  classes.Image(counter, line[0], line[2:])\n",
    "        images.append(new_img)\n",
    "        counter += 1\n",
    "\n",
    "    return images\n",
    "\n",
    "\n",
    "def create_slides(imgs):\n",
    "    \"\"\"Create list of slides from a list of images\"\"\"\n",
    "    # Create slides\n",
    "    slides = [classes.slide() for i in range(len(imgs))]\n",
    "\n",
    "    count = 0\n",
    "    lonely = False\n",
    "    # Iterate over images to put them in the slides list\n",
    "    for i in range(len(imgs)):\n",
    "        # Insert horizontal image\n",
    "        if imgs[i].orientation == \"H\":\n",
    "            slides[count].insert(imgs[i])\n",
    "            count += 1\n",
    "        # Insert two verticals if a lonely index is present\n",
    "        elif lonely is not False:\n",
    "            slides[count].insert(imgs[lonely])\n",
    "            slides[count].insert(imgs[i])\n",
    "            count += 1\n",
    "            lonely = False\n",
    "        # Store this lonely vertical image\n",
    "        else:\n",
    "            lonely = i\n",
    "\n",
    "    # Delete empty slides\n",
    "    del slides[count:]\n",
    "\n",
    "    return slides"
   ]
  },
  {
   "cell_type": "code",
   "execution_count": 100,
   "metadata": {},
   "outputs": [],
   "source": [
    "file_name = \"data/b_lovely_landscapes.txt\"\n",
    "# Create list of images\n",
    "imgs = create_Image(file_name)\n",
    "# Create list of slides in order of the file\n",
    "slides = create_slides(imgs)"
   ]
  },
  {
   "cell_type": "code",
   "execution_count": 102,
   "metadata": {},
   "outputs": [
    {
     "data": {
      "text/plain": [
       "80000"
      ]
     },
     "execution_count": 102,
     "metadata": {},
     "output_type": "execute_result"
    }
   ],
   "source": [
    "len(slides)"
   ]
  },
  {
   "cell_type": "code",
   "execution_count": 103,
   "metadata": {},
   "outputs": [
    {
     "data": {
      "text/plain": [
       "<_io.TextIOWrapper name='try_output.txt' mode='w' encoding='cp1252'>"
      ]
     },
     "execution_count": 103,
     "metadata": {},
     "output_type": "execute_result"
    }
   ],
   "source": [
    "file_name_output = \"try_output.txt\"\n",
    "output = open(file_name_output, \"w\")\n",
    "\n"
   ]
  },
  {
   "cell_type": "code",
   "execution_count": null,
   "metadata": {},
   "outputs": [],
   "source": [
    "f = open(file)\n",
    "for line in f.readlines():\n",
    "    c.update(read_tags(line))\n",
    "return c"
   ]
  }
 ],
 "metadata": {
  "kernelspec": {
   "display_name": "Python 3",
   "language": "python",
   "name": "python3"
  },
  "language_info": {
   "codemirror_mode": {
    "name": "ipython",
    "version": 3
   },
   "file_extension": ".py",
   "mimetype": "text/x-python",
   "name": "python",
   "nbconvert_exporter": "python",
   "pygments_lexer": "ipython3",
   "version": "3.6.5"
  }
 },
 "nbformat": 4,
 "nbformat_minor": 2
}
