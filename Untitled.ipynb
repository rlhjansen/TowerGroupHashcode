{
 "cells": [
  {
   "cell_type": "code",
   "execution_count": 1,
   "metadata": {},
   "outputs": [],
   "source": [
    "import pandas as pd"
   ]
  },
  {
   "cell_type": "code",
   "execution_count": 11,
   "metadata": {},
   "outputs": [],
   "source": [
    "f = open(\"data/a_example.txt\", \"r\")\n"
   ]
  },
  {
   "cell_type": "code",
   "execution_count": 75,
   "metadata": {},
   "outputs": [
    {
     "name": "stdout",
     "output_type": "stream",
     "text": [
      "80000 set() V {'tdh', 't9d', 'tdf', 'tg4', 'tzh', 't3h', 't65', 'tg7', 't8c', 'tzc', 't9f', 't7j', 'tl9', 't98', 'tkd', 't63', 't12', 't8b', 'tv2', 'tmb', 't', 'tcd', 't3b', 'tx5', 'tjc'} V {'t4b', 'tb8', 't17', 'td7', 't9f', 'tqb', 'tr2', 't63', 'tbf', 't64', 'tl2', 'tw6', 'tff', 'tt6', 't0j', 't6j'}\n"
     ]
    }
   ],
   "source": [
    "import read_object as ro\n",
    "\n",
    "\n",
    "class Image:\n",
    "    \"\"\"Image class\n",
    "       properties:\n",
    "\n",
    "            id (int): identifier number.\n",
    "            orientation (char): 'H' for horizontal 'V' for vertical.\n",
    "            tags (set): set containing the tags of the image.\n",
    "    \"\"\"\n",
    "\n",
    "    def __init__(self, id, orientation, tags):\n",
    "        self.id = id\n",
    "        self.orientation = orientation\n",
    "        self.tags = set(tags)\n",
    "\n",
    "    def __add__(self, other):\n",
    "        \"\"\"Return tags in both images\"\"\"\n",
    "        return self.tags | other.tags\n",
    "\n",
    "    def __str__(self):\n",
    "        return self.orientation + ' ' + str(self.tags)\n",
    "\n",
    "    # def __sub__(self, other):\n",
    "    #     \"\"\"Returns minimum number of tags exclusively in one image \"\"\"\n",
    "    #     return min(len(self.tags - other.tags), len(other.tags - self.tags))\n",
    "\n",
    "\n",
    "class slide:\n",
    "\n",
    "    def __init__(self):\n",
    "        self.filled = False\n",
    "        self.images = []\n",
    "\n",
    "    def insert(self, image):\n",
    "        \"\"\"Returns True if success, False if incompatible\"\"\"\n",
    "\n",
    "        if not self.filled:\n",
    "            if self.images:\n",
    "                if image.orientation == 'V':\n",
    "                    self.images.append(image)\n",
    "                    self.filled = True\n",
    "                else:\n",
    "                    return False\n",
    "            else:\n",
    "                self.images.append(image)\n",
    "                if image.orientation == 'H':\n",
    "                    self.filled = True\n",
    "            return True\n",
    "\n",
    "    def remove(self, image):\n",
    "        \"\"\"Returns the popped image\"\"\"\n",
    "\n",
    "        self.images.remove(image)\n",
    "        self.filled = False\n",
    "        return image\n",
    "\n",
    "    def tags(self):\n",
    "        \"\"\"returns all tags in slide \"\"\"\n",
    "\n",
    "        if self.filled:\n",
    "            if len(self.images) == 2:\n",
    "                return self.images[0] + self.images[1]\n",
    "            else:\n",
    "                return self.images[0].tags\n",
    "        else:\n",
    "            return set()\n",
    "\n",
    "    def score(self, other):\n",
    "        \"\"\"Returns the score of a slide progression\"\"\"\n",
    "        return min(len(self.tags() - other.tags()), len(other.tags() - self.tags()), len(other.tags() & self.tags()))\n",
    "\n",
    "\n",
    "if __name__ == '__main__':\n",
    "    file_name = \"data/e_shiny_selfies.txt\"\n",
    "    imgs = ro.create_Image(file_name)\n",
    "    print(imgs[0], imgs[1], imgs[2])\n"
   ]
  },
  {
   "cell_type": "code",
   "execution_count": 76,
   "metadata": {},
   "outputs": [
    {
     "data": {
      "text/plain": [
       "{'cat', 'garden'}"
      ]
     },
     "execution_count": 76,
     "metadata": {},
     "output_type": "execute_result"
    }
   ],
   "source": [
    "def create_Image(file_name):\n",
    "    \"\"\"Create list of object Image from text file\"\"\"\n",
    "    # Read file\n",
    "    f = open(file_name, \"r\")\n",
    "    \n",
    "    images = []\n",
    "    counter = 0\n",
    "    # Loop over lines\n",
    "    for line in f.readlines()[1:10]:\n",
    "        line = line.replace(\"\\n\", \"\").split(\" \")\n",
    "        # Append Image objects to images\n",
    "        new_img =  Image(counter, line[0], line[2:])\n",
    "        images.append(new_img)\n",
    "        counter += 1\n",
    "        \n",
    "    return images\n",
    "images = create_Image(\"data/a_example.txt\")\n",
    "images[3].tags\n",
    "# images[3].id"
   ]
  },
  {
   "cell_type": "code",
   "execution_count": 77,
   "metadata": {},
   "outputs": [
    {
     "data": {
      "text/plain": [
       "['4']"
      ]
     },
     "execution_count": 77,
     "metadata": {},
     "output_type": "execute_result"
    }
   ],
   "source": [
    "file_name = \"data/a_example.txt\"\n",
    "f = open(file_name, \"r\")\n",
    "line = f.readlines()[0]\n",
    "line.replace(\"\\n\", \"\").split(\" \")"
   ]
  },
  {
   "cell_type": "code",
   "execution_count": 80,
   "metadata": {},
   "outputs": [
    {
     "name": "stdout",
     "output_type": "stream",
     "text": [
      "{'sun', 'beach', 'cat'} {'smile', 'selfie'}\n",
      "{'sun', 'beach', 'cat'}\n",
      "\n",
      "{'smile', 'selfie'} {'garden', 'selfie'}\n",
      "{'smile', 'garden', 'selfie'}\n",
      "\n",
      "{'garden', 'selfie'} {'garden', 'cat'}\n",
      "{'garden', 'cat'}\n",
      "\n"
     ]
    },
    {
     "data": {
      "text/plain": [
       "1"
      ]
     },
     "execution_count": 80,
     "metadata": {},
     "output_type": "execute_result"
    }
   ],
   "source": [
    "# Wrong length probs\n",
    "slides = [slide() for i in range(len(images))]\n",
    "\n",
    "count = 0\n",
    "lonely = False\n",
    "for i in range(len(images)):\n",
    "    # Insert horizontal image\n",
    "    if images[i].orientation == \"H\":\n",
    "        slides[count].insert(images[i])\n",
    "        count += 1\n",
    "    # Insert two verticals if a lonely index is present\n",
    "    elif lonely is not False:\n",
    "        slides[count].insert(images[lonely])\n",
    "        slides[count].insert(images[i])\n",
    "        count += 1\n",
    "    # Store this lonely vertical image\n",
    "    else:\n",
    "        lonely = i\n",
    "for i in range(len(slides)-1):\n",
    "    print(images[i].tags, images[i+1].tags)\n",
    "    print(slides[i].tags())\n",
    "    print()\n",
    "slides[1].score(slides[2])"
   ]
  },
  {
   "cell_type": "code",
   "execution_count": null,
   "metadata": {},
   "outputs": [],
   "source": [
    "slides = []\n",
    "lonely_img = 0\n",
    "\n",
    "for i in range(len(images)):\n",
    "    if image[i].orientation == \"H\":\n",
    "#         slides.append(insert()\n",
    "        "
   ]
  }
 ],
 "metadata": {
  "kernelspec": {
   "display_name": "Python 3",
   "language": "python",
   "name": "python3"
  },
  "language_info": {
   "codemirror_mode": {
    "name": "ipython",
    "version": 3
   },
   "file_extension": ".py",
   "mimetype": "text/x-python",
   "name": "python",
   "nbconvert_exporter": "python",
   "pygments_lexer": "ipython3",
   "version": "3.6.5"
  }
 },
 "nbformat": 4,
 "nbformat_minor": 2
}
