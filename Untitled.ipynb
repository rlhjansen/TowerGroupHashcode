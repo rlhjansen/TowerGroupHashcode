{
 "cells": [
  {
   "cell_type": "code",
   "execution_count": 187,
   "metadata": {},
   "outputs": [],
   "source": [
    "import classes\n"
   ]
  },
  {
   "cell_type": "code",
   "execution_count": 189,
   "metadata": {},
   "outputs": [],
   "source": [
    "import classes\n",
    "\n",
    "def create_Image(file_name):\n",
    "    \"\"\"Create list of object Image from text file\"\"\"\n",
    "    # Read file\n",
    "    f = open(file_name, \"r\")\n",
    "\n",
    "    images = []\n",
    "    counter = 0\n",
    "    # Loop over lines\n",
    "    for line in f.readlines()[1:]:\n",
    "        line = line.replace(\"\\n\", \"\").split(\" \")\n",
    "        # Append Image objects to images\n",
    "        new_img =  classes.Image(counter, line[0], line[2:])\n",
    "        images.append(new_img)\n",
    "        counter += 1\n",
    "\n",
    "    return images\n",
    "\n",
    "\n",
    "def create_slides(imgs):\n",
    "    \"\"\"Create list of slides from a list of images\"\"\"\n",
    "    # Create slides\n",
    "    slides = [classes.slide() for i in range(len(imgs))]\n",
    "\n",
    "    count = 0\n",
    "    lonely = False\n",
    "    # Iterate over images to put them in the slides list\n",
    "    for i in range(len(imgs)):\n",
    "        # Insert horizontal image\n",
    "        if imgs[i].orientation == \"H\":\n",
    "            print(i, imgs[i].orientation, \"should be H\")\n",
    "            slides[count].insert(imgs[i])\n",
    "            count += 1\n",
    "        # Insert two verticals if a lonely index is present\n",
    "        elif lonely is not False:\n",
    "            print(i, imgs[i].orientation, \"should be V\")\n",
    "            slides[count].insert(imgs[lonely])\n",
    "            slides[count].insert(imgs[i])\n",
    "            count += 1\n",
    "            lonely = False\n",
    "        # Store this lonely vertical image\n",
    "        else:\n",
    "            print(i, imgs[i].orientation, \"should be V, lonely\")\n",
    "            lonely = i\n",
    "\n",
    "    # Delete empty slides\n",
    "    del slides[count:]\n",
    "\n",
    "    return slides"
   ]
  },
  {
   "cell_type": "code",
   "execution_count": null,
   "metadata": {},
   "outputs": [],
   "source": [
    "def get_nums(file_name):\n",
    "    \"\"\"Create list of object Image from text file\"\"\"\n",
    "    # Read file\n",
    "    f = open(file_name, \"r\")\n",
    "\n",
    "    ids = []\n",
    "    nums = []\n",
    "    counter = 0\n",
    "    # Loop over lines\n",
    "    for line in f.readlines()[1:]:\n",
    "        line = line.replace(\"\\n\", \"\").split(\" \")\n",
    "        # Append Image objects to images\n",
    "        new_img =  classes.Image(counter, line[0], line[2:])\n",
    "        ids.append(counter)\n",
    "        nums.append(len(new_img.tags))\n",
    "        counter += 1\n",
    "\n",
    "    return ids, nums"
   ]
  },
  {
   "cell_type": "code",
   "execution_count": 200,
   "metadata": {},
   "outputs": [],
   "source": [
    "def create_Image(file_name):\n",
    "    \"\"\"Create list of object Image from text file\"\"\"\n",
    "    # Read file\n",
    "    f = open(file_name, \"r\")\n",
    "\n",
    "    images = []\n",
    "    tags_dict = {}\n",
    "    counter = 0\n",
    "    # Loop over lines\n",
    "    for line in f.readlines()[1:]:\n",
    "        line = line.replace(\"\\n\", \"\").split(\" \")\n",
    "        # Append Image objects to images\n",
    "        new_img =  classes.Image(counter, line[0], line[2:])\n",
    "        images.append(new_img)\n",
    "        \n",
    "        # Create dictionary\n",
    "        for tag in new_img.tags:\n",
    "            # Append id to existing key\n",
    "            if tag in tags_dict:\n",
    "                tags_dict[tag] = tags_dict[tag] | {new_img.id}\n",
    "            # Else create new key\n",
    "            else:\n",
    "                tags_dict[tag] = {new_img.id}\n",
    "\n",
    "        counter += 1\n",
    "\n",
    "    return images, tags_dict"
   ]
  },
  {
   "cell_type": "code",
   "execution_count": 204,
   "metadata": {},
   "outputs": [
    {
     "data": {
      "text/plain": [
       "{'beach': {0},\n",
       " 'cat': {0, 3},\n",
       " 'garden': {2, 3},\n",
       " 'selfie': {1, 2},\n",
       " 'smile': {1},\n",
       " 'sun': {0}}"
      ]
     },
     "execution_count": 204,
     "metadata": {},
     "output_type": "execute_result"
    }
   ],
   "source": [
    "imgs, tags_dict = create_Image(\"data/a_example.txt\")\n",
    "# print(imgs[0].tags, imgs[1].tags, imgs[2].tags)\n",
    "# imgs[2].tags | imgs[1].tags\n",
    "\n",
    "tags_dict"
   ]
  },
  {
   "cell_type": "code",
   "execution_count": 205,
   "metadata": {},
   "outputs": [
    {
     "name": "stdout",
     "output_type": "stream",
     "text": [
      "{'sun', 'beach', 'cat'}\n",
      "{'smile', 'selfie'}\n",
      "{'garden', 'selfie'}\n",
      "{'garden', 'cat'}\n"
     ]
    }
   ],
   "source": [
    "for img in imgs:\n",
    "    print(img.tags)"
   ]
  },
  {
   "cell_type": "code",
   "execution_count": 220,
   "metadata": {},
   "outputs": [
    {
     "data": {
      "text/plain": [
       "{'beach': {0},\n",
       " 'cat': {0, 3},\n",
       " 'garden': {2, 3},\n",
       " 'selfie': {1, 2},\n",
       " 'smile': {1},\n",
       " 'sun': {0}}"
      ]
     },
     "execution_count": 220,
     "metadata": {},
     "output_type": "execute_result"
    }
   ],
   "source": [
    "tags_dict = get_tags_dict(\"data/a_example.txt\")\n",
    "# print(imgs[0].tags, imgs[1].tags, imgs[2].tags)\n",
    "# imgs[2].tags | imgs[1].tags\n",
    "\n",
    "tags_dict"
   ]
  },
  {
   "cell_type": "code",
   "execution_count": 208,
   "metadata": {},
   "outputs": [],
   "source": [
    "def get_tags_dict(file_name):\n",
    "    \"\"\"Create list of object Image from text file\"\"\"\n",
    "    # Read file\n",
    "    f = open(file_name, \"r\")\n",
    "\n",
    "    tags_dict = {}\n",
    "    counter = 0\n",
    "    # Loop over lines\n",
    "    for line in f.readlines()[1:]:\n",
    "        line = line.replace(\"\\n\", \"\").split(\" \")\n",
    "        # Append Image objects to images\n",
    "        new_img =  classes.Image(counter, line[0], line[2:])\n",
    "        images.append(new_img)\n",
    "        \n",
    "        # Create dictionary\n",
    "        for tag in new_img.tags:\n",
    "            # Append id to existing key\n",
    "            if tag in tags_dict:\n",
    "                tags_dict[tag] = tags_dict[tag] | {new_img.id}\n",
    "            # Else create new key\n",
    "            else:\n",
    "                tags_dict[tag] = {new_img.id}\n",
    "\n",
    "        counter += 1\n",
    "\n",
    "    return tags_dict"
   ]
  },
  {
   "cell_type": "code",
   "execution_count": 218,
   "metadata": {},
   "outputs": [],
   "source": [
    "def get_ids_dict(file_name):\n",
    "    \"\"\"Create list of object Image from text file\"\"\"\n",
    "    # Read file\n",
    "    f = open(file_name, \"r\")\n",
    "\n",
    "    ids_dict = {}\n",
    "    counter = 0\n",
    "    # Loop over lines\n",
    "    for line in f.readlines()[1:]:\n",
    "        line = line.replace(\"\\n\", \"\").split(\" \")\n",
    "        \n",
    "        ids_dict[counter] = set(line[2:])\n",
    "\n",
    "        counter += 1\n",
    "\n",
    "    return ids_dict"
   ]
  },
  {
   "cell_type": "code",
   "execution_count": 221,
   "metadata": {},
   "outputs": [
    {
     "data": {
      "text/plain": [
       "{0: {'beach', 'cat', 'sun'},\n",
       " 1: {'selfie', 'smile'},\n",
       " 2: {'garden', 'selfie'},\n",
       " 3: {'cat', 'garden'}}"
      ]
     },
     "execution_count": 221,
     "metadata": {},
     "output_type": "execute_result"
    }
   ],
   "source": [
    "get_ids_dict(\"data/a_example.txt\")"
   ]
  },
  {
   "cell_type": "code",
   "execution_count": null,
   "metadata": {},
   "outputs": [],
   "source": []
  }
 ],
 "metadata": {
  "kernelspec": {
   "display_name": "Python 3",
   "language": "python",
   "name": "python3"
  },
  "language_info": {
   "codemirror_mode": {
    "name": "ipython",
    "version": 3
   },
   "file_extension": ".py",
   "mimetype": "text/x-python",
   "name": "python",
   "nbconvert_exporter": "python",
   "pygments_lexer": "ipython3",
   "version": "3.6.5"
  }
 },
 "nbformat": 4,
 "nbformat_minor": 2
}
