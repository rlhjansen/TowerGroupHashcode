{
 "cells": [
  {
   "cell_type": "code",
   "execution_count": 1,
   "metadata": {},
   "outputs": [],
   "source": [
    "import pandas as pd"
   ]
  },
  {
   "cell_type": "code",
   "execution_count": 11,
   "metadata": {},
   "outputs": [],
   "source": [
    "f = open(\"data/a_example.txt\", \"r\")\n"
   ]
  },
  {
   "cell_type": "code",
   "execution_count": 10,
   "metadata": {},
   "outputs": [],
   "source": [
    "class Image:\n",
    "    \"\"\"Image class\n",
    "       properties:\n",
    "\n",
    "            id (int): identifier number.\n",
    "            orientation (char): 'H' for horizontal 'V' for vertical.\n",
    "            tags (set): set containing the tags of the image.\n",
    "    \"\"\"\n",
    "\n",
    "    def __init__(self, id, orientation, tags):\n",
    "        self.id = id\n",
    "        self.orientation = orientation\n",
    "        self.tags = set(tags)\n",
    "\n",
    "    def __add__(self, other):\n",
    "        \"\"\"Returns number of tags that are in both images\"\"\"\n",
    "        return len(self.tags & other.tags)\n",
    "\n",
    "    def __sub__(self, other):\n",
    "        \"\"\"Returns minimum number of tags exclusively in one image \"\"\"\n",
    "        return min(len(self.tags - other.tags), len(other.tags - self.tags))"
   ]
  },
  {
   "cell_type": "code",
   "execution_count": 37,
   "metadata": {},
   "outputs": [
    {
     "data": {
      "text/plain": [
       "{'cat', 'garden'}"
      ]
     },
     "execution_count": 37,
     "metadata": {},
     "output_type": "execute_result"
    }
   ],
   "source": [
    "def create_Image(file_name):\n",
    "    \"\"\"Create list of object Image from text file\"\"\"\n",
    "    # Read file\n",
    "    f = open(file_name, \"r\")\n",
    "    \n",
    "    images = []\n",
    "    counter = 0\n",
    "    # Loop over lines\n",
    "    for line in f.readlines()[1:10]:\n",
    "        line = line.replace(\"\\n\", \"\").split(\" \")\n",
    "        # Append Image objects to images\n",
    "        new_img =  Image(counter, line[0], line[2:])\n",
    "        images.append(new_img)\n",
    "        counter += 1\n",
    "        \n",
    "    return images\n",
    "images = create_Image(\"data/a_example.txt\")\n",
    "images[3].tags\n",
    "# images[3].id"
   ]
  },
  {
   "cell_type": "code",
   "execution_count": 32,
   "metadata": {},
   "outputs": [
    {
     "data": {
      "text/plain": [
       "['4']"
      ]
     },
     "execution_count": 32,
     "metadata": {},
     "output_type": "execute_result"
    }
   ],
   "source": [
    "file_name = \"data/a_example.txt\"\n",
    "f = open(file_name, \"r\")\n",
    "line = f.readlines()[0]\n",
    "line.replace(\"\\n\", \"\").split(\" \")"
   ]
  },
  {
   "cell_type": "code",
   "execution_count": null,
   "metadata": {},
   "outputs": [],
   "source": []
  }
 ],
 "metadata": {
  "kernelspec": {
   "display_name": "Python 3",
   "language": "python",
   "name": "python3"
  },
  "language_info": {
   "codemirror_mode": {
    "name": "ipython",
    "version": 3
   },
   "file_extension": ".py",
   "mimetype": "text/x-python",
   "name": "python",
   "nbconvert_exporter": "python",
   "pygments_lexer": "ipython3",
   "version": "3.6.5"
  }
 },
 "nbformat": 4,
 "nbformat_minor": 2
}
