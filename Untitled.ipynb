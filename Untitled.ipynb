{
 "cells": [
  {
   "cell_type": "code",
   "execution_count": 1,
   "metadata": {},
   "outputs": [],
   "source": [
    "import pandas as pd"
   ]
  },
  {
   "cell_type": "code",
   "execution_count": 11,
   "metadata": {},
   "outputs": [],
   "source": [
    "f = open(\"data/a_example.txt\", \"r\")\n"
   ]
  },
  {
   "cell_type": "code",
   "execution_count": 45,
   "metadata": {},
   "outputs": [],
   "source": [
    "class Image:\n",
    "    \"\"\"Image class\n",
    "       properties:\n",
    "\n",
    "            id (int): identifier number.\n",
    "            orientation (char): 'H' for horizontal 'V' for vertical.\n",
    "            tags (set): set containing the tags of the image.\n",
    "    \"\"\"\n",
    "\n",
    "    def __init__(self, id, orientation, tags):\n",
    "        self.id = id\n",
    "        self.orientation = orientation\n",
    "        self.tags = set(tags)\n",
    "\n",
    "    def __add__(self, other):\n",
    "        \"\"\"Return tags in both images\"\"\"\n",
    "        return self.tags | other.tags\n",
    "\n",
    "    # def __sub__(self, other):\n",
    "    #     \"\"\"Returns minimum number of tags exclusively in one image \"\"\"\n",
    "    #     return min(len(self.tags - other.tags), len(other.tags - self.tags))\n",
    "\n",
    "\n",
    "class slide:\n",
    "\n",
    "    def __init__(self):\n",
    "        self.filled = False\n",
    "        self.images = []\n",
    "\n",
    "    def insert(self, image):\n",
    "        \"\"\"Returns True if success, False if incompatible\"\"\"\n",
    "\n",
    "        if not self.filled:\n",
    "            if self.images:\n",
    "                if image.orientation == 'V':\n",
    "                    self.images.append(image)\n",
    "                    self.filled = True\n",
    "                else:\n",
    "                    return False\n",
    "            else:\n",
    "                self.images.append(image)\n",
    "                if image.orientation == 'H':\n",
    "                    self.filled = True\n",
    "            return True\n",
    "\n",
    "    def remove(self, image):\n",
    "        \"\"\"Returns the popped image\"\"\"\n",
    "\n",
    "        self.images.remove(image)\n",
    "        self.filled = False\n",
    "        return image\n",
    "\n",
    "    def tags(self):\n",
    "        if self.filled:\n",
    "            if len(self.images) == 2:\n",
    "                return self.images[0] + self.images[1]\n",
    "            else:\n",
    "                return self.images[0].tags\n",
    "        else:\n",
    "            return set()\n",
    "\n",
    "\n",
    "\n",
    "    def score(self, next):\n",
    "        pass\n"
   ]
  },
  {
   "cell_type": "code",
   "execution_count": 47,
   "metadata": {},
   "outputs": [
    {
     "data": {
      "text/plain": [
       "{'cat', 'garden'}"
      ]
     },
     "execution_count": 47,
     "metadata": {},
     "output_type": "execute_result"
    }
   ],
   "source": [
    "def create_Image(file_name):\n",
    "    \"\"\"Create list of object Image from text file\"\"\"\n",
    "    # Read file\n",
    "    f = open(file_name, \"r\")\n",
    "    \n",
    "    images = []\n",
    "    counter = 0\n",
    "    # Loop over lines\n",
    "    for line in f.readlines()[1:10]:\n",
    "        line = line.replace(\"\\n\", \"\").split(\" \")\n",
    "        # Append Image objects to images\n",
    "        new_img =  Image(counter, line[0], line[2:])\n",
    "        images.append(new_img)\n",
    "        counter += 1\n",
    "        \n",
    "    return images\n",
    "images = create_Image(\"data/a_example.txt\")\n",
    "images[3].tags\n",
    "# images[3].id"
   ]
  },
  {
   "cell_type": "code",
   "execution_count": 48,
   "metadata": {},
   "outputs": [
    {
     "data": {
      "text/plain": [
       "['4']"
      ]
     },
     "execution_count": 48,
     "metadata": {},
     "output_type": "execute_result"
    }
   ],
   "source": [
    "file_name = \"data/a_example.txt\"\n",
    "f = open(file_name, \"r\")\n",
    "line = f.readlines()[0]\n",
    "line.replace(\"\\n\", \"\").split(\" \")"
   ]
  },
  {
   "cell_type": "code",
   "execution_count": 59,
   "metadata": {},
   "outputs": [
    {
     "data": {
      "text/plain": [
       "<bound method slide.tags of <__main__.slide object at 0x0000026BDFCC79B0>>"
      ]
     },
     "execution_count": 59,
     "metadata": {},
     "output_type": "execute_result"
    }
   ],
   "source": [
    "# Wrong length probs\n",
    "slides = [slide() for i in range(len(images))]\n",
    "\n",
    "count = 0\n",
    "lonely = False\n",
    "for i in range(len(images)):\n",
    "    # Insert horizontal image\n",
    "    if images[i].orientation == \"H\":\n",
    "        slides[count].insert(images[i])\n",
    "        count += 1\n",
    "    # Insert two verticals if a lonely index is present\n",
    "    elif lonely is not False:\n",
    "        slides[count].insert(images[lonely])\n",
    "        slides[count].insert(images[i])\n",
    "        count += 1\n",
    "    # Store this lonely vertical image\n",
    "    else:\n",
    "        lonely = i\n",
    "    \n",
    "slides[0].tags"
   ]
  },
  {
   "cell_type": "code",
   "execution_count": null,
   "metadata": {},
   "outputs": [],
   "source": [
    "slides = []\n",
    "lonely_img = 0\n",
    "\n",
    "for i in range(len(images)):\n",
    "    if image[i].orientation == \"H\":\n",
    "#         slides.append(insert()\n",
    "        "
   ]
  }
 ],
 "metadata": {
  "kernelspec": {
   "display_name": "Python 3",
   "language": "python",
   "name": "python3"
  },
  "language_info": {
   "codemirror_mode": {
    "name": "ipython",
    "version": 3
   },
   "file_extension": ".py",
   "mimetype": "text/x-python",
   "name": "python",
   "nbconvert_exporter": "python",
   "pygments_lexer": "ipython3",
   "version": "3.6.5"
  }
 },
 "nbformat": 4,
 "nbformat_minor": 2
}
